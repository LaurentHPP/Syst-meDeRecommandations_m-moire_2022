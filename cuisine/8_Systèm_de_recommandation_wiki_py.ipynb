{
 "cells": [
  {
   "cell_type": "code",
   "execution_count": 2,
   "id": "1cd9d467",
   "metadata": {},
   "outputs": [],
   "source": [
    "# Ce script consiste à construire un système de recommandation dans le domaine cusine \n",
    "# en utilisant les plongements des DBpedia générés par PyTorch-BigGraph.\n",
    "\n",
    "# j'ai tout d'abord traiter les données pour que le fichier soit en format Word2Vec.\n",
    "\n",
    "\n",
    "from gensim.models import KeyedVectors\n",
    "\n",
    "path = \"cuisine_Nom_emd_wiki_py.txt\""
   ]
  },
  {
   "cell_type": "code",
   "execution_count": 3,
   "id": "2d8edbfe",
   "metadata": {},
   "outputs": [],
   "source": [
    "model= KeyedVectors.load_word2vec_format(path)"
   ]
  },
  {
   "cell_type": "code",
   "execution_count": 4,
   "id": "d4a1d031",
   "metadata": {},
   "outputs": [
    {
     "name": "stderr",
     "output_type": "stream",
     "text": [
      "/opt/anaconda3/lib/python3.9/site-packages/gensim/models/keyedvectors.py:2377: RuntimeWarning: invalid value encountered in true_divide\n",
      "  return (m / dist).astype(REAL)\n"
     ]
    }
   ],
   "source": [
    "sims = model.most_similar(positive = [\"baozi\"],negative = [\"doner_kebab\"], topn = 10)"
   ]
  },
  {
   "cell_type": "code",
   "execution_count": 5,
   "id": "226f8919",
   "metadata": {},
   "outputs": [
    {
     "name": "stdout",
     "output_type": "stream",
     "text": [
      "[('Bake_and_Shark', 0.19631561636924744), ('Fish_soup_bee_hoon', 0.16612310707569122), ('pretzel', 0.16464553773403168), ('hwajeon', 0.16212411224842072), ('bánh_chưng', 0.1093129813671112), ('butter_tart', 0.1007966473698616), ('Stargazy_pie', 0.088299959897995), ('Pan-bagnat', 0.07617437094449997), ('Taillé_aux_greubons', 0.060826003551483154), ('rose_hip_soup', 0.052728574723005295)]\n"
     ]
    }
   ],
   "source": [
    "print(sims)"
   ]
  },
  {
   "cell_type": "code",
   "execution_count": 6,
   "id": "865e4474",
   "metadata": {},
   "outputs": [],
   "source": [
    "import json\n",
    "\n",
    "f= open(\"cuisine_URL_Nom_WIKI.json\", encoding = \"utf-8\")\n",
    "\n",
    "dic = json.load(f)\n",
    "\n",
    "f.close()"
   ]
  },
  {
   "cell_type": "code",
   "execution_count": 7,
   "id": "535f6334",
   "metadata": {},
   "outputs": [],
   "source": [
    "dic_inverse = {}\n",
    "for c, v in dic.items():\n",
    "\n",
    "    valeur = c[1:-1]\n",
    "    cle = v[0].replace(\" \",\"_\")\n",
    "    dic_inverse[cle]=valeur"
   ]
  },
  {
   "cell_type": "code",
   "execution_count": 8,
   "id": "ff34959d",
   "metadata": {},
   "outputs": [
    {
     "name": "stdout",
     "output_type": "stream",
     "text": [
      "http://www.wikidata.org/entity/Q17050214\n"
     ]
    }
   ],
   "source": [
    "print(dic_inverse[\"Fish_soup_bee_hoon\"])"
   ]
  },
  {
   "cell_type": "code",
   "execution_count": 17,
   "id": "8e2e2f26",
   "metadata": {},
   "outputs": [],
   "source": [
    "# la fonction qui nous permet de générer la recommandation \n",
    "\n",
    "def recommander(pos,neg):\n",
    "    sims = model.most_similar(positive = pos,negative =neg, topn = 5)\n",
    "    print(\"Je vous conseille de manger les cuisines suivantes :\")\n",
    "    print(\"\\n\")\n",
    "    print(\"=\"*50)\n",
    "    print(\"\\n\")\n",
    "    for i in range(len(sims)):\n",
    "        print(\"Numéro\",i+1,\":\",sims[i][0])\n",
    "        print(\"Pour plus de l'information, cliquez : \", dic_inverse[sims[i][0]])\n",
    "        print(\"\\n\")\n",
    "        \n",
    "    distance = (model.similarity(sims[0][0],sims[1][0]) +model.similarity(sims[0][0],sims[2][0])\n",
    "        +model.similarity(sims[0][0],sims[3][0])+model.similarity(sims[0][0],sims[4][0])\n",
    "        +model.similarity(sims[1][0],sims[2][0]) +model.similarity(sims[1][0],sims[3][0])\n",
    "        +model.similarity(sims[1][0],sims[4][0])\n",
    "        +model.similarity(sims[2][0],sims[3][0]) +model.similarity(sims[2][0],sims[4][0])\n",
    "        +model.similarity(sims[3][0],sims[4][0]))/10\n",
    "    \n",
    "    print(\"La valeur de diversité pour ce système de recommandation est :\",distance)\n",
    "    \n",
    "        \n",
    "        "
   ]
  },
  {
   "cell_type": "code",
   "execution_count": 19,
   "id": "78ff44d4",
   "metadata": {},
   "outputs": [
    {
     "name": "stdout",
     "output_type": "stream",
     "text": [
      "Je vous conseille de manger les cuisines suivantes :\n",
      "\n",
      "\n",
      "==================================================\n",
      "\n",
      "\n",
      "Numéro 1 : taco\n",
      "Pour plus de l'information, cliquez :  http://www.wikidata.org/entity/Q191655\n",
      "\n",
      "\n",
      "Numéro 2 : Chettinad_cuisine\n",
      "Pour plus de l'information, cliquez :  http://www.wikidata.org/entity/Q3525354\n",
      "\n",
      "\n",
      "Numéro 3 : Steckrübeneintopf\n",
      "Pour plus de l'information, cliquez :  http://www.wikidata.org/entity/Q919627\n",
      "\n",
      "\n",
      "Numéro 4 : Bouchon\n",
      "Pour plus de l'information, cliquez :  http://www.wikidata.org/entity/Q3006973\n",
      "\n",
      "\n",
      "Numéro 5 : Christmas_Island_cuisine\n",
      "Pour plus de l'information, cliquez :  http://www.wikidata.org/entity/Q17002293\n",
      "\n",
      "\n",
      "La valeur de diversité pour ce système de recommandation est : 0.6298133850097656\n"
     ]
    }
   ],
   "source": [
    "recommander([\"sushi\",\"baozi\",\"mala_hot_pot\"],[\"pizza\",\"Lomi_salmon\"])\n"
   ]
  },
  {
   "cell_type": "code",
   "execution_count": null,
   "id": "b599db5c",
   "metadata": {},
   "outputs": [],
   "source": []
  },
  {
   "cell_type": "code",
   "execution_count": null,
   "id": "7bd3d14d",
   "metadata": {},
   "outputs": [],
   "source": []
  },
  {
   "cell_type": "code",
   "execution_count": null,
   "id": "e712a230",
   "metadata": {},
   "outputs": [],
   "source": []
  },
  {
   "cell_type": "code",
   "execution_count": null,
   "id": "5aa5a240",
   "metadata": {},
   "outputs": [],
   "source": []
  },
  {
   "cell_type": "code",
   "execution_count": null,
   "id": "46314e5d",
   "metadata": {},
   "outputs": [],
   "source": []
  },
  {
   "cell_type": "code",
   "execution_count": null,
   "id": "f102b848",
   "metadata": {},
   "outputs": [],
   "source": []
  },
  {
   "cell_type": "code",
   "execution_count": null,
   "id": "03d3f5b0",
   "metadata": {},
   "outputs": [],
   "source": []
  }
 ],
 "metadata": {
  "kernelspec": {
   "display_name": "Python 3 (ipykernel)",
   "language": "python",
   "name": "python3"
  },
  "language_info": {
   "codemirror_mode": {
    "name": "ipython",
    "version": 3
   },
   "file_extension": ".py",
   "mimetype": "text/x-python",
   "name": "python",
   "nbconvert_exporter": "python",
   "pygments_lexer": "ipython3",
   "version": "3.9.7"
  }
 },
 "nbformat": 4,
 "nbformat_minor": 5
}
