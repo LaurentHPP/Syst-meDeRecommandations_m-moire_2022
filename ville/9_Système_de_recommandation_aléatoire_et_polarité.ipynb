{
 "cells": [
  {
   "cell_type": "code",
   "execution_count": 185,
   "id": "6c1cee42",
   "metadata": {},
   "outputs": [],
   "source": [
    "import pandas as pd\n",
    "import random,re"
   ]
  },
  {
   "cell_type": "code",
   "execution_count": 193,
   "id": "e8d172c9",
   "metadata": {},
   "outputs": [],
   "source": [
    "import csv\n",
    "import json\n",
    "\n",
    "f= open(\"ville_URL_Nom_WIKI.json\", encoding = \"utf-8\")\n",
    "\n",
    "dic = json.load(f)\n",
    "\n",
    "f.close()"
   ]
  },
  {
   "cell_type": "code",
   "execution_count": 255,
   "id": "64fd7bbe",
   "metadata": {},
   "outputs": [],
   "source": [
    "path = \"ville_Nom_emd_wiki_rdf2vec.txt\"\n",
    "from gensim.models import KeyedVectors\n",
    "model= KeyedVectors.load_word2vec_format(path)\n",
    "\n",
    "listeville=[]\n",
    "df = pd.read_csv(\"ville_nom_2_URL.csv\")\n",
    "\n",
    "for i in range(len(df)):\n",
    "    a = df.iloc[i][\"Nom de ville\"]\n",
    "    listeville.append(a[2:-2])\n",
    "    \n",
    "\n",
    "def recommander(pos,neg):\n",
    "\n",
    "    for i in pos:\n",
    "        e= str(i.replace(\"_\",\" \"))\n",
    "        listeville.remove(e)\n",
    "    \n",
    "    for i in neg:\n",
    "        e= str(i.replace(\"_\",\" \"))\n",
    "        listeville.remove(e)\n",
    "    \n",
    "    liste = random.sample(listeville,5)\n",
    "    \n",
    "    print(\"Je vous conseille de visiter les ville suivantes :\")\n",
    "    print(\"\\n\")\n",
    "    print(\"=\"*50)\n",
    "    print(\"\\n\")\n",
    "    \n",
    "    for i in range(len(liste)):\n",
    "        \n",
    "      \n",
    "        print(\"Numéro\",i+1,\":\",liste[i])\n",
    "        s = str(liste[i]).replace(\" \",\"_\")\n",
    "  \n",
    "        print(\"Pour plus de l'information, cliquez : \", dic_inverse[s])\n",
    "        print(\"\\n\")\n",
    "    liste1 = []\n",
    "    for i in liste:\n",
    "        liste1.append(i.replace(\" \",\"_\"))\n",
    "\n",
    "        \n",
    "    distance = (model.similarity(liste1[0],liste1[1]) +model.similarity(liste1[0],liste1[2])\n",
    "        +model.similarity(liste1[0],liste1[3])+model.similarity(liste1[0],liste1[4])\n",
    "        +model.similarity(liste1[1],liste1[2]) +model.similarity(liste1[1],liste1[3])\n",
    "        +model.similarity(liste1[1],liste1[4])\n",
    "        +model.similarity(liste1[2],liste1[3]) +model.similarity(liste1[2],liste1[4])\n",
    "        +model.similarity(liste1[3],liste1[4]))/10\n",
    "    print(\"La valeur de diversité pour ce système de recommandation est :\",distance)\n",
    "    "
   ]
  },
  {
   "cell_type": "code",
   "execution_count": 256,
   "id": "ae5781c0",
   "metadata": {},
   "outputs": [
    {
     "data": {
      "text/plain": [
       "'#liste1 = [\"Franco_da_Rocha\",\"Vitebsk\",\"Sherbrooke\",\"Utsunomiya\",\"Sibiu\"]\\n#liste1 = [\"Tongchuan\",\"Cambridge\",\"Debrecen\",\"Matosinhos\",\"Tanger\"]\\n#liste1 = [\"Pucallpa\",\"Bazhong\",\"Ciudad_del_Este\",\"Saint-Jean_de_Terre-Neuve\",\"Pedro_Juan_Caballero\"]\\n#liste1 = [\"Medellín\",\"Eslamshahr\",\"Melbourne\",\"Ontario\",\"Wonju\"]\\n#liste1 = [\"Pyongyang\",\"Nonsan\",\"Dire_Dawa\",\"Sacaba\",\"Khorramabad\"]\\n#liste1 = [\"Kishiwada\",\"Sakado\",\"Chéberghân\",\"Jalgaon\",\"Eunápolis\"]\\n#liste1 = [\"Pingxiang\",\"Mira-Bhayandar\",\"Atibaia\",\"Shaoxing\",\"Montgomery\"]\\n#liste1 = [\"Changsha\",\"Atyraou\",\"Kanpur\",\"Dera_Ismail_Khan\",\"Bento_Gonçalves\"]\\n#liste1 = [\"Derbent\",\"Béjaïa\",\"Atlanta\",\"Tebing_Tinggi\",\"Konnagar\"]\\nliste1 = [\"Kusong\",\"Damanhur\",\"Tongyeong\",\"Barbacena_(Minas_Gerais)\",\"Zaporijjia\"]\\n\\n\\n\\ndistance = (model.similarity(liste1[0],liste1[1]) +model.similarity(liste1[0],liste1[2])\\n        +model.similarity(liste1[0],liste1[3])+model.similarity(liste1[0],liste1[4])\\n        +model.similarity(liste1[1],liste1[2]) +model.similarity(liste1[1],liste1[3])\\n        +model.similarity(liste1[1],liste1[4])\\n        +model.similarity(liste1[2],liste1[3]) +model.similarity(liste1[2],liste1[4])\\n        +model.similarity(liste1[3],liste1[4]))/10\\nprint(\"La valeur de diversité pour ce système de recommandation est :\",distance)\\n\\n'"
      ]
     },
     "execution_count": 256,
     "metadata": {},
     "output_type": "execute_result"
    }
   ],
   "source": [
    "\"\"\"#liste1 = [\"Franco_da_Rocha\",\"Vitebsk\",\"Sherbrooke\",\"Utsunomiya\",\"Sibiu\"]\n",
    "#liste1 = [\"Tongchuan\",\"Cambridge\",\"Debrecen\",\"Matosinhos\",\"Tanger\"]\n",
    "#liste1 = [\"Pucallpa\",\"Bazhong\",\"Ciudad_del_Este\",\"Saint-Jean_de_Terre-Neuve\",\"Pedro_Juan_Caballero\"]\n",
    "#liste1 = [\"Medellín\",\"Eslamshahr\",\"Melbourne\",\"Ontario\",\"Wonju\"]\n",
    "#liste1 = [\"Pyongyang\",\"Nonsan\",\"Dire_Dawa\",\"Sacaba\",\"Khorramabad\"]\n",
    "#liste1 = [\"Kishiwada\",\"Sakado\",\"Chéberghân\",\"Jalgaon\",\"Eunápolis\"]\n",
    "#liste1 = [\"Pingxiang\",\"Mira-Bhayandar\",\"Atibaia\",\"Shaoxing\",\"Montgomery\"]\n",
    "#liste1 = [\"Changsha\",\"Atyraou\",\"Kanpur\",\"Dera_Ismail_Khan\",\"Bento_Gonçalves\"]\n",
    "#liste1 = [\"Derbent\",\"Béjaïa\",\"Atlanta\",\"Tebing_Tinggi\",\"Konnagar\"]\n",
    "liste1 = [\"Kusong\",\"Damanhur\",\"Tongyeong\",\"Barbacena_(Minas_Gerais)\",\"Zaporijjia\"]\n",
    "\n",
    "\n",
    "\n",
    "distance = (model.similarity(liste1[0],liste1[1]) +model.similarity(liste1[0],liste1[2])\n",
    "        +model.similarity(liste1[0],liste1[3])+model.similarity(liste1[0],liste1[4])\n",
    "        +model.similarity(liste1[1],liste1[2]) +model.similarity(liste1[1],liste1[3])\n",
    "        +model.similarity(liste1[1],liste1[4])\n",
    "        +model.similarity(liste1[2],liste1[3]) +model.similarity(liste1[2],liste1[4])\n",
    "        +model.similarity(liste1[3],liste1[4]))/10\n",
    "print(\"La valeur de diversité pour ce système de recommandation est :\",distance)\n",
    "\n",
    "\"\"\""
   ]
  },
  {
   "cell_type": "code",
   "execution_count": null,
   "id": "312ad0ac",
   "metadata": {},
   "outputs": [],
   "source": []
  },
  {
   "cell_type": "code",
   "execution_count": 257,
   "id": "398a43a2",
   "metadata": {},
   "outputs": [
    {
     "name": "stdout",
     "output_type": "stream",
     "text": [
      "Je vous conseille de visiter les ville suivantes :\n",
      "\n",
      "\n",
      "==================================================\n",
      "\n",
      "\n",
      "Numéro 1 : Vitória de Santo Antão\n",
      "Pour plus de l'information, cliquez :  <http://www.wikidata.org/entity/Q985685>\n",
      "\n",
      "\n",
      "Numéro 2 : Sanmenxia\n",
      "Pour plus de l'information, cliquez :  <http://www.wikidata.org/entity/Q404636>\n",
      "\n",
      "\n",
      "Numéro 3 : Kirkouk\n",
      "Pour plus de l'information, cliquez :  <http://www.wikidata.org/entity/Q173310>\n",
      "\n",
      "\n",
      "Numéro 4 : Moulmein\n",
      "Pour plus de l'information, cliquez :  <http://www.wikidata.org/entity/Q685941>\n",
      "\n",
      "\n",
      "Numéro 5 : Aracruz\n",
      "Pour plus de l'information, cliquez :  <http://www.wikidata.org/entity/Q1794219>\n",
      "\n",
      "\n",
      "La valeur de diversité pour ce système de recommandation est : 0.3363463878631592\n"
     ]
    }
   ],
   "source": [
    "recommander([\"Lisbonne\",\"Séoul\",\"Nottingham\"],[\"Tours\",\"Clermont-Ferrand\"])\n"
   ]
  },
  {
   "cell_type": "code",
   "execution_count": null,
   "id": "95f761ac",
   "metadata": {},
   "outputs": [],
   "source": []
  },
  {
   "cell_type": "code",
   "execution_count": 9,
   "id": "3149399d",
   "metadata": {},
   "outputs": [],
   "source": [
    "#Système_de_recommandation_de_polarité"
   ]
  },
  {
   "cell_type": "code",
   "execution_count": 10,
   "id": "ce3e83d0",
   "metadata": {},
   "outputs": [],
   "source": [
    "def dico_wikidata_ranks(chemin=\"./2021-11-15.allwiki.links.rank\") :\n",
    "    dico_ranks = {}\n",
    "    cpt = 0\n",
    "    with open(chemin,\"r\",encoding=\"utf-8\") as f :\n",
    "        ligne = f.readline()\n",
    "        ligne = ligne[:len(ligne)-1]\n",
    "\n",
    "        while ligne :\n",
    "            cpt+=1\n",
    "            liste = ligne.split(\"\\t\")\n",
    "            dico_ranks[liste[0]] = float(liste[1])\n",
    "\n",
    "            ligne = f.readline()\n",
    "            ligne = ligne[:len(ligne)-1]\n",
    "\n",
    "    return dico_ranks\n",
    "dico_ranks = dico_wikidata_ranks(chemin=\"../PageRank/2021-11-15.allwiki.links.rank\")"
   ]
  },
  {
   "cell_type": "code",
   "execution_count": 164,
   "id": "790eea0d",
   "metadata": {},
   "outputs": [
    {
     "name": "stdout",
     "output_type": "stream",
     "text": [
      "23132899\n"
     ]
    }
   ],
   "source": [
    "print(len(dico_ranks))"
   ]
  },
  {
   "cell_type": "code",
   "execution_count": 165,
   "id": "0f48233c",
   "metadata": {},
   "outputs": [],
   "source": [
    "liste_label = []\n",
    "liste_URL = []\n",
    "liste_entite = []\n",
    "for c, v in dic.items():\n",
    "    liste_URL.append(c)\n",
    "    liste_entite.append(v[0])"
   ]
  },
  {
   "cell_type": "code",
   "execution_count": null,
   "id": "a3bb6584",
   "metadata": {},
   "outputs": [],
   "source": [
    "\n"
   ]
  },
  {
   "cell_type": "code",
   "execution_count": 167,
   "id": "bd0b69ec",
   "metadata": {},
   "outputs": [],
   "source": [
    "RegexTxt = re.compile(r'Q[0-9]+')\n",
    "for i in liste_URL:\n",
    "    liste_label.append(RegexTxt.search(i).group())\n",
    "    "
   ]
  },
  {
   "cell_type": "code",
   "execution_count": 175,
   "id": "ae188b2f",
   "metadata": {},
   "outputs": [],
   "source": [
    "dic_nom_label = dict(zip(liste_entite,liste_label))\n",
    "dic_label_nom = dict(zip(liste_label,liste_entite))\n"
   ]
  },
  {
   "cell_type": "code",
   "execution_count": 15,
   "id": "9e762888",
   "metadata": {},
   "outputs": [],
   "source": [
    "dic_label_PR = {} \n",
    "\n",
    "for c,v in dico_ranks.items():\n",
    "    if c in dic_nom_label.values():\n",
    "        dic_label_PR[c] = v"
   ]
  },
  {
   "cell_type": "code",
   "execution_count": 149,
   "id": "f375cb1f",
   "metadata": {},
   "outputs": [],
   "source": [
    "dic_label_URL = {}\n",
    "for i in range(len(liste_label)):\n",
    "    dic_label_URL[liste_label[i]]=liste_URL[i][1:-1]"
   ]
  },
  {
   "cell_type": "code",
   "execution_count": null,
   "id": "3065bf9d",
   "metadata": {},
   "outputs": [],
   "source": []
  },
  {
   "cell_type": "code",
   "execution_count": null,
   "id": "a8f834c1",
   "metadata": {},
   "outputs": [],
   "source": [
    "    print(\"Je vous conseille de visiter les villes suivantes :\")\n"
   ]
  },
  {
   "cell_type": "code",
   "execution_count": 251,
   "id": "705f28b3",
   "metadata": {},
   "outputs": [],
   "source": [
    "def recommander(pos,neg):\n",
    "        \n",
    "    dic_label_PR_1 = dict(sorted(dic_label_PR.items(), key=lambda item:item[1], reverse=True))\n",
    "   \n",
    "    for i in pos:\n",
    "        del dic_label_PR_1[dic_nom_label[i.replace(\"_\",\" \")]]\n",
    "    \n",
    "    for i in neg:\n",
    "        del dic_label_PR_1[dic_nom_label[i.replace(\"_\",\" \")]]\n",
    "   \n",
    "    \n",
    "    dic_label_PR_2 = sorted(dic_label_PR_1.items(), key=lambda item:item[1], reverse=True)\n",
    "    \n",
    "        \n",
    "        \n",
    "    print(\"Je vous conseille de visiter les villes suivantes :\")\n",
    "    print(\"\\n\")\n",
    "    print(\"=\"*50)\n",
    "    print(\"\\n\")\n",
    "    for i in range(5):\n",
    "\n",
    "        print(\"Numéro\",i+1,\":\",dic_label_nom[dic_label_PR_2[i][0]])\n",
    "        print(\"Pour plus de l'information, cliquez : \", dic_label_URL[dic_label_PR_2[i][0]])\n",
    "        print(\"\\n\")\n",
    "\n",
    "        \n",
    "\n",
    "    distance = (model.similarity(dic_label_nom[dic_label_PR_2[0][0]].replace(\" \",\"_\"),dic_label_nom[dic_label_PR_2[1][0]].replace(\" \",\"_\")) + model.similarity(dic_label_nom[dic_label_PR_2[0][0]].replace(\" \",\"_\"),dic_label_nom[dic_label_PR_2[2][0]].replace(\" \",\"_\"))\n",
    "        +model.similarity(dic_label_nom[dic_label_PR_2[0][0]].replace(\" \",\"_\"),dic_label_nom[dic_label_PR_2[3][0]].replace(\" \",\"_\"))+model.similarity(dic_label_nom[dic_label_PR_2[0][0]].replace(\" \",\"_\"),dic_label_nom[dic_label_PR_2[4][0]].replace(\" \",\"_\"))\n",
    "        +model.similarity(dic_label_nom[dic_label_PR_2[1][0]].replace(\" \",\"_\"),dic_label_nom[dic_label_PR_2[2][0]].replace(\" \",\"_\")) + model.similarity(dic_label_nom[dic_label_PR_2[1][0]].replace(\" \",\"_\"),dic_label_nom[dic_label_PR_2[3][0]].replace(\" \",\"_\"))\n",
    "        +model.similarity(dic_label_nom[dic_label_PR_2[1][0]].replace(\" \",\"_\"),dic_label_nom[dic_label_PR_2[4][0]].replace(\" \",\"_\"))\n",
    "        +model.similarity(dic_label_nom[dic_label_PR_2[2][0]].replace(\" \",\"_\"),dic_label_nom[dic_label_PR_2[3][0]].replace(\" \",\"_\")) +model.similarity(dic_label_nom[dic_label_PR_2[2][0]].replace(\" \",\"_\"),dic_label_nom[dic_label_PR_2[4][0]].replace(\" \",\"_\"))\n",
    "        +model.similarity(dic_label_nom[dic_label_PR_2[3][0]].replace(\" \",\"_\"),dic_label_nom[dic_label_PR_2[4][0]].replace(\" \",\"_\")))/10\n",
    "    print(\"La valeur de diversité pour ce système de recommandation est :\",distance)\n",
    "    \n",
    "    \n",
    "    "
   ]
  },
  {
   "cell_type": "code",
   "execution_count": 252,
   "id": "30b07e62",
   "metadata": {},
   "outputs": [
    {
     "name": "stdout",
     "output_type": "stream",
     "text": [
      "Je vous conseille de visiter les villes suivantes :\n",
      "\n",
      "\n",
      "==================================================\n",
      "\n",
      "\n",
      "Numéro 1 : Washington\n",
      "Pour plus de l'information, cliquez :  http://www.wikidata.org/entity/Q61\n",
      "\n",
      "\n",
      "Numéro 2 : Moscou\n",
      "Pour plus de l'information, cliquez :  http://www.wikidata.org/entity/Q649\n",
      "\n",
      "\n",
      "Numéro 3 : New York\n",
      "Pour plus de l'information, cliquez :  http://www.wikidata.org/entity/Q60\n",
      "\n",
      "\n",
      "Numéro 4 : Rome\n",
      "Pour plus de l'information, cliquez :  http://www.wikidata.org/entity/Q220\n",
      "\n",
      "\n",
      "Numéro 5 : Singapour\n",
      "Pour plus de l'information, cliquez :  http://www.wikidata.org/entity/Q334\n",
      "\n",
      "\n",
      "La valeur de diversité pour ce système de recommandation est : 0.3328179121017456\n"
     ]
    }
   ],
   "source": [
    "recommander([\"Huizhou\",\"Cambridge\",\"Athènes\"],[\"Putian\"])"
   ]
  },
  {
   "cell_type": "code",
   "execution_count": null,
   "id": "6897a45b",
   "metadata": {},
   "outputs": [],
   "source": []
  },
  {
   "cell_type": "code",
   "execution_count": null,
   "id": "5e2e2a27",
   "metadata": {},
   "outputs": [],
   "source": []
  },
  {
   "cell_type": "code",
   "execution_count": null,
   "id": "5e4370c5",
   "metadata": {},
   "outputs": [],
   "source": []
  }
 ],
 "metadata": {
  "kernelspec": {
   "display_name": "Python 3 (ipykernel)",
   "language": "python",
   "name": "python3"
  },
  "language_info": {
   "codemirror_mode": {
    "name": "ipython",
    "version": 3
   },
   "file_extension": ".py",
   "mimetype": "text/x-python",
   "name": "python",
   "nbconvert_exporter": "python",
   "pygments_lexer": "ipython3",
   "version": "3.9.7"
  }
 },
 "nbformat": 4,
 "nbformat_minor": 5
}
