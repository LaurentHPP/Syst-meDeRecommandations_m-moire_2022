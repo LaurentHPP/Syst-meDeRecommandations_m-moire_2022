{
 "cells": [
  {
   "cell_type": "code",
   "execution_count": 1,
   "id": "1cd9d467",
   "metadata": {},
   "outputs": [],
   "source": [
    "# Ce script consiste à construire un système de recommandation dans le domaine ville \n",
    "# en utilisant les plongements des DBpedia générés par PyTorch-BigGraph.\n",
    "\n",
    "# j'ai tout d'abord traiter les données pour que le fichier soit en format Word2Vec.\n",
    "\n",
    "from gensim.models import KeyedVectors\n",
    "\n",
    "path = \"ville_Nom_emd_wiki_py.txt\""
   ]
  },
  {
   "cell_type": "code",
   "execution_count": 2,
   "id": "2d8edbfe",
   "metadata": {},
   "outputs": [],
   "source": [
    "model= KeyedVectors.load_word2vec_format(path)"
   ]
  },
  {
   "cell_type": "code",
   "execution_count": 3,
   "id": "c2cd887f",
   "metadata": {},
   "outputs": [
    {
     "name": "stdout",
     "output_type": "stream",
     "text": [
      "La similarité entre Nice et Marseille est : 0.42427963\n",
      "La similarité entre Nice et Pékin est : 0.10232927\n"
     ]
    },
    {
     "name": "stderr",
     "output_type": "stream",
     "text": [
      "/var/folders/hg/7br5zrvs767779d6zygcqyf40000gn/T/ipykernel_47066/3268183892.py:1: DeprecationWarning: Call to deprecated `wv` (Attribute will be removed in 4.0.0, use self instead).\n",
      "  distance1 = model.wv.similarity('Nice', 'Marseille')\n",
      "/var/folders/hg/7br5zrvs767779d6zygcqyf40000gn/T/ipykernel_47066/3268183892.py:2: DeprecationWarning: Call to deprecated `wv` (Attribute will be removed in 4.0.0, use self instead).\n",
      "  distance2 = model.wv.similarity('Nice', 'Pékin')\n"
     ]
    }
   ],
   "source": [
    "distance1 = model.wv.similarity('Nice', 'Marseille')\n",
    "distance2 = model.wv.similarity('Nice', 'Pékin')\n",
    "print(\"La similarité entre Nice et Marseille est :\",distance1)\n",
    "print(\"La similarité entre Nice et Pékin est :\",distance2)"
   ]
  },
  {
   "cell_type": "code",
   "execution_count": null,
   "id": "b151fae7",
   "metadata": {},
   "outputs": [],
   "source": []
  },
  {
   "cell_type": "code",
   "execution_count": 4,
   "id": "d4a1d031",
   "metadata": {},
   "outputs": [],
   "source": [
    "sims = model.most_similar(positive = [\"Tours\"],negative = [\"Lisbonne\",\"Rennes\"], topn = 10)"
   ]
  },
  {
   "cell_type": "code",
   "execution_count": 5,
   "id": "226f8919",
   "metadata": {},
   "outputs": [
    {
     "name": "stdout",
     "output_type": "stream",
     "text": [
      "[('Voronej', 0.08847558498382568), ('Munich', 0.08846211433410645), ('Glasgow', 0.07975992560386658), ('Hugli-Chuchura', 0.07933684438467026), ('Jounieh', 0.06497102230787277), ('Lausanne', 0.0627330094575882), ('Charleroi', 0.058099325746297836), ('Parme', 0.05757137015461922), ('Offenbach-sur-le-Main', 0.056914638727903366), ('Nova_Serrana', 0.051345162093639374)]\n"
     ]
    }
   ],
   "source": [
    "print(sims)"
   ]
  },
  {
   "cell_type": "code",
   "execution_count": 6,
   "id": "5fc2ca69",
   "metadata": {},
   "outputs": [],
   "source": [
    "import json\n",
    "\n",
    "f= open(\"ville_URL_Nom_WIKI.json\", encoding = \"utf-8\")\n",
    "\n",
    "dic = json.load(f)\n",
    "\n",
    "f.close()"
   ]
  },
  {
   "cell_type": "code",
   "execution_count": 7,
   "id": "cad0b178",
   "metadata": {},
   "outputs": [],
   "source": [
    "dic_inverse = {}\n",
    "for c, v in dic.items():\n",
    "\n",
    "    valeur = c[1:-1]\n",
    "    cle = v[0].replace(\" \",\"_\")\n",
    "    dic_inverse[cle]=valeur"
   ]
  },
  {
   "cell_type": "code",
   "execution_count": 8,
   "id": "93880de0",
   "metadata": {},
   "outputs": [
    {
     "name": "stdout",
     "output_type": "stream",
     "text": [
      "http://www.wikidata.org/entity/Q8678\n"
     ]
    }
   ],
   "source": [
    "print(dic_inverse[\"Rio_de_Janeiro\"])"
   ]
  },
  {
   "cell_type": "code",
   "execution_count": 17,
   "id": "c2998335",
   "metadata": {},
   "outputs": [],
   "source": [
    "# la fonction qui nous permet de générer la recommandation \n",
    "\n",
    "def recommander(pos,neg):\n",
    "    sims = model.most_similar(positive = pos,negative =neg, topn = 5)\n",
    "    print(\"Je vous conseille de visiter les villes suivantes :\")\n",
    "    print(\"\\n\")\n",
    "    print(\"=\"*50)\n",
    "    print(\"\\n\")\n",
    "    for i in range(len(sims)):\n",
    "        print(\"Numéro\",i+1,\":\",sims[i][0])\n",
    "        print(\"Pour plus de l'information, cliquez : \", dic_inverse[sims[i][0]])\n",
    "        print(\"\\n\")\n",
    "    distance = (model.similarity(sims[0][0],sims[1][0]) +model.similarity(sims[0][0],sims[2][0])\n",
    "        +model.similarity(sims[0][0],sims[3][0])+model.similarity(sims[0][0],sims[4][0])\n",
    "        +model.similarity(sims[1][0],sims[2][0]) +model.similarity(sims[1][0],sims[3][0])\n",
    "        +model.similarity(sims[1][0],sims[4][0])\n",
    "        +model.similarity(sims[2][0],sims[3][0]) +model.similarity(sims[2][0],sims[4][0])\n",
    "        +model.similarity(sims[3][0],sims[4][0]))/10\n",
    "    print(\"La valeur de diversité pour ce système de recommandation est :\",distance)\n",
    "    \n",
    "        \n",
    "        \n",
    "    "
   ]
  },
  {
   "cell_type": "code",
   "execution_count": 27,
   "id": "6a31ddbe",
   "metadata": {},
   "outputs": [
    {
     "name": "stdout",
     "output_type": "stream",
     "text": [
      "Je vous conseille de visiter les villes suivantes :\n",
      "\n",
      "\n",
      "==================================================\n",
      "\n",
      "\n",
      "Numéro 1 : Escondido\n",
      "Pour plus de l'information, cliquez :  http://www.wikidata.org/entity/Q372454\n",
      "\n",
      "\n",
      "Numéro 2 : Porto_Alegre\n",
      "Pour plus de l'information, cliquez :  http://www.wikidata.org/entity/Q40269\n",
      "\n",
      "\n",
      "Numéro 3 : Strasbourg\n",
      "Pour plus de l'information, cliquez :  http://www.wikidata.org/entity/Q6602\n",
      "\n",
      "\n",
      "Numéro 4 : Rangoun\n",
      "Pour plus de l'information, cliquez :  http://www.wikidata.org/entity/Q37995\n",
      "\n",
      "\n",
      "Numéro 5 : Hassan\n",
      "Pour plus de l'information, cliquez :  http://www.wikidata.org/entity/Q47264\n",
      "\n",
      "\n",
      "La valeur de diversité pour ce système de recommandation est : 0.5114772319793701\n"
     ]
    }
   ],
   "source": [
    "#recommander([\"Lisbonne\",\"Séoul\",\"Nottingham\"],[\"Tours\",\"Clermont-Ferrand\"])\n",
    "#recommander([\"Nice\",\"Changsha\",\"Suzhou\"],[\"Marseille\",\"Pékin\",\"Shanghaï\"])\n",
    "#recommander([\"Toronto\",\"Amsterdam\",\"Toulouse\",\"Glasgow\"],[\"Moscou\",\"Los_Angeles\",\"Dubaï\"])\n",
    "#recommander([\"Lisbonne\",\"Florence\",\"Cancún\",\"Séville\"],[\"Amsterdam\",\"Genève\",\"Parme\",\"Malabo\"])\n",
    "#recommander([\"Huizhou\",\"Cambridge\",\"Athènes\"],[\"Putian\"])\n",
    "#recommander([\"Rome\",\"Venise\",\"Singapour\",\"Florence\",\"Dijon\"],[\"Islamabad\",\"Catane\",\"Mexico\",\"Tunis\",\"Dumai\"])\n",
    "#recommander([\"Singapour\",\"Marseille\"],[\"Tunis\",\"New_Delhi\",\"Dumai\"])\n",
    "#recommander([\"Toronto\",\"Amsterdam\",\"Toulouse\",\"Glasgow\"],[\"Moscou\",\"Los_Angeles\",\"Dubaï\"])\n",
    "#recommander([\"New_York\",\"Dortmund\",\"Barcelone\"],[\"Moscou\",\"Madrid\",\"Kyoto\"])\n",
    "#recommander([\"New_York\",\"Rome\",],[\"Moscou\",\"Pékin\"])\n",
    "\n",
    "#recommander([\"Nice\",\"Athènes\",],[\"Rome\",\"New_Delhi\"])\n",
    "#recommander([\"Rome\",\"Venise\",\"Singapour\",\"Florence\",\"Dijon\"],[\"Islamabad\",\"Catane\",\"Mexico\",\"Tunis\",\"Dumai\"])\n",
    "#recommander([\"Lisbonne\",\"Florence\",\"Cancún\",\"Séville\"],[\"Amsterdam\",\"Genève\",\"Parme\",\"Malabo\"])\n",
    "recommander([\"Huizhou\",\"Cambridge\",\"Athènes\"],[\"Putian\"])\n"
   ]
  },
  {
   "cell_type": "code",
   "execution_count": null,
   "id": "b599db5c",
   "metadata": {},
   "outputs": [],
   "source": []
  },
  {
   "cell_type": "code",
   "execution_count": null,
   "id": "7bd3d14d",
   "metadata": {},
   "outputs": [],
   "source": []
  },
  {
   "cell_type": "code",
   "execution_count": null,
   "id": "e712a230",
   "metadata": {},
   "outputs": [],
   "source": []
  },
  {
   "cell_type": "code",
   "execution_count": null,
   "id": "5aa5a240",
   "metadata": {},
   "outputs": [],
   "source": []
  },
  {
   "cell_type": "code",
   "execution_count": null,
   "id": "46314e5d",
   "metadata": {},
   "outputs": [],
   "source": []
  },
  {
   "cell_type": "code",
   "execution_count": null,
   "id": "f102b848",
   "metadata": {},
   "outputs": [],
   "source": []
  },
  {
   "cell_type": "code",
   "execution_count": null,
   "id": "03d3f5b0",
   "metadata": {},
   "outputs": [],
   "source": []
  }
 ],
 "metadata": {
  "kernelspec": {
   "display_name": "Python 3 (ipykernel)",
   "language": "python",
   "name": "python3"
  },
  "language_info": {
   "codemirror_mode": {
    "name": "ipython",
    "version": 3
   },
   "file_extension": ".py",
   "mimetype": "text/x-python",
   "name": "python",
   "nbconvert_exporter": "python",
   "pygments_lexer": "ipython3",
   "version": "3.9.7"
  }
 },
 "nbformat": 4,
 "nbformat_minor": 5
}
