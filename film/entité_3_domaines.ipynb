{
 "cells": [
  {
   "cell_type": "code",
   "execution_count": 1,
   "id": "c967ddf8",
   "metadata": {},
   "outputs": [],
   "source": [
    "import gzip\n",
    "import csv \n",
    "import json\n",
    "import pandas as pd\n",
    "import numpy as np\n",
    "import re\n",
    "\n"
   ]
  },
  {
   "cell_type": "code",
   "execution_count": 26,
   "id": "e148c50d",
   "metadata": {},
   "outputs": [],
   "source": [
    "df_film = pd.read_csv(\"film_nom_2_URL.csv\")\n",
    "list_film = []\n",
    "for i in range(len(df_film)):\n",
    "    a = df_film.iloc[i][\"Nom de film\"]\n",
    "    list_film.append(a)\n",
    "\n"
   ]
  },
  {
   "cell_type": "code",
   "execution_count": 28,
   "id": "ccc9e81a",
   "metadata": {},
   "outputs": [],
   "source": [
    "df_ville = pd.read_csv(\"../ville/ville_nom_2_URL.csv\")\n",
    "list_ville = []\n",
    "for i in range(len(df_ville)):\n",
    "    a = df_ville.iloc[i][\"Nom de ville\"]\n",
    "    list_ville.append(a)"
   ]
  },
  {
   "cell_type": "code",
   "execution_count": 30,
   "id": "ec2ce03f",
   "metadata": {},
   "outputs": [],
   "source": [
    "df_cuisine = pd.read_csv(\"../cuisine/cuisine_nom_2_URL.csv\")\n",
    "list_cuisine = []\n",
    "for i in range(len(df_cuisine)):\n",
    "    a = df_cuisine.iloc[i][\"Nom de cuisine\"]\n",
    "    list_cuisine.append(a)"
   ]
  },
  {
   "cell_type": "code",
   "execution_count": 33,
   "id": "85c2fdc1",
   "metadata": {},
   "outputs": [
    {
     "name": "stdout",
     "output_type": "stream",
     "text": [
      "1319\n",
      "3207\n",
      "1470\n"
     ]
    }
   ],
   "source": [
    "print(len(list_cuisine))\n",
    "print(len(list_ville))\n",
    "print(len(list_film))"
   ]
  },
  {
   "cell_type": "code",
   "execution_count": 40,
   "id": "63630366",
   "metadata": {},
   "outputs": [],
   "source": [
    "from itertools import zip_longest # izip_longest in python2.x\n",
    "with open(\"entité_3_domaines.csv\", \"w\",encoding = \"UTF_8\") as f:\n",
    "    w = csv.writer(f)\n",
    "    w.writerow([\"entité de film\", \"entité de ville\",\"entité de cuisine\" ])\n",
    "    for x, y, z in zip_longest(list_film, list_ville, list_cuisine):\n",
    "        w.writerow([x, y, z])"
   ]
  },
  {
   "cell_type": "code",
   "execution_count": null,
   "id": "f34da19c",
   "metadata": {},
   "outputs": [],
   "source": []
  },
  {
   "cell_type": "code",
   "execution_count": null,
   "id": "4ea43997",
   "metadata": {},
   "outputs": [],
   "source": []
  },
  {
   "cell_type": "code",
   "execution_count": null,
   "id": "03c98b9b",
   "metadata": {},
   "outputs": [],
   "source": []
  },
  {
   "cell_type": "code",
   "execution_count": null,
   "id": "b90a8d15",
   "metadata": {},
   "outputs": [],
   "source": []
  },
  {
   "cell_type": "code",
   "execution_count": null,
   "id": "eb894298",
   "metadata": {},
   "outputs": [],
   "source": []
  }
 ],
 "metadata": {
  "kernelspec": {
   "display_name": "Python 3 (ipykernel)",
   "language": "python",
   "name": "python3"
  },
  "language_info": {
   "codemirror_mode": {
    "name": "ipython",
    "version": 3
   },
   "file_extension": ".py",
   "mimetype": "text/x-python",
   "name": "python",
   "nbconvert_exporter": "python",
   "pygments_lexer": "ipython3",
   "version": "3.9.7"
  }
 },
 "nbformat": 4,
 "nbformat_minor": 5
}
