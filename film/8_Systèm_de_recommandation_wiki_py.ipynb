{
 "cells": [
  {
   "cell_type": "code",
   "execution_count": 5,
   "id": "1cd9d467",
   "metadata": {},
   "outputs": [],
   "source": [
    "# Ce script consiste à construire un système de recommandation dans le domaine film \n",
    "# en utilisant les plongements des DBpedia générés par PyTorch-BigGraph.\n",
    "\n",
    "# j'ai tout d'abord traiter les données pour que le fichier soit en format Word2Vec.\n",
    "from gensim.models import KeyedVectors\n",
    "\n",
    "path = \"film_Nom_emd_wiki_py.txt\""
   ]
  },
  {
   "cell_type": "code",
   "execution_count": 6,
   "id": "2d8edbfe",
   "metadata": {},
   "outputs": [],
   "source": [
    "model= KeyedVectors.load_word2vec_format(path)"
   ]
  },
  {
   "cell_type": "code",
   "execution_count": 7,
   "id": "d4a1d031",
   "metadata": {},
   "outputs": [],
   "source": [
    "sims = model.most_similar(positive = [\"Anna_Karénine\"],negative = [\"Shadow_Dancer\"], topn = 10)"
   ]
  },
  {
   "cell_type": "code",
   "execution_count": 8,
   "id": "226f8919",
   "metadata": {},
   "outputs": [
    {
     "name": "stdout",
     "output_type": "stream",
     "text": [
      "[('Le_Grand_Méchant_Loup', 0.15881435573101044), ('Twentynine_Palms', 0.12575072050094604), ('Do_Not_Disturb', 0.1250116378068924), (\"L'Homme_qui_a_tué_Don_Quichotte\", 0.12284330278635025), ('Swallow', 0.11761921644210815), ('Barbara', 0.11701508611440659), ('Coup_de_chaud', 0.11650890111923218), ('Lettre_filmée_de_Jean-Luc_Godard_à_Gilles_Jacob_et_Thierry_Frémaux', 0.11617386341094971), ('Faut_pas_lui_dire', 0.11420466005802155), ('Chambre_212', 0.11413511633872986)]\n"
     ]
    }
   ],
   "source": [
    "print(sims)"
   ]
  },
  {
   "cell_type": "code",
   "execution_count": 10,
   "id": "adfade4b",
   "metadata": {},
   "outputs": [],
   "source": [
    "import json\n",
    "\n",
    "f= open(\"film_URL_Nom_WIKI.json\", encoding = \"utf-8\")\n",
    "\n",
    "dic = json.load(f)\n",
    "\n",
    "f.close()"
   ]
  },
  {
   "cell_type": "code",
   "execution_count": 24,
   "id": "0768ee94",
   "metadata": {},
   "outputs": [],
   "source": [
    "dic_inverse = {}\n",
    "for c, v in dic.items():\n",
    "\n",
    "    valeur = c\n",
    "    cle = v[0].replace(\" \",\"_\")\n",
    "    dic_inverse[cle]=valeur"
   ]
  },
  {
   "cell_type": "code",
   "execution_count": 25,
   "id": "7ccc68ad",
   "metadata": {},
   "outputs": [
    {
     "name": "stdout",
     "output_type": "stream",
     "text": [
      "http://www.wikidata.org/entity/Q20830773\n"
     ]
    }
   ],
   "source": [
    "print(dic_inverse[\"Coup_de_chaud\"])"
   ]
  },
  {
   "cell_type": "code",
   "execution_count": 26,
   "id": "1814cd39",
   "metadata": {},
   "outputs": [],
   "source": [
    "# la fonction qui nous permet de générer la recommandation \n",
    "\n",
    "def recommander(pos,neg):\n",
    "    sims = model.most_similar(positive = pos,negative =neg, topn = 5)\n",
    "    print(\"Je vous conseille de voir les films suivants :\")\n",
    "    print(\"\\n\")\n",
    "    print(\"=\"*50)\n",
    "    print(\"\\n\")\n",
    "    for i in range(len(sims)):\n",
    "        print(\"Numéro\",i+1,\":\",sims[i][0])\n",
    "        print(\"Pour plus de l'information, cliquez : \", dic_inverse[sims[i][0]])\n",
    "        print(\"\\n\")\n",
    "    "
   ]
  },
  {
   "cell_type": "code",
   "execution_count": 27,
   "id": "78ff44d4",
   "metadata": {},
   "outputs": [
    {
     "name": "stdout",
     "output_type": "stream",
     "text": [
      "Je vous conseille de voir les films suivants :\n",
      "\n",
      "\n",
      "==================================================\n",
      "\n",
      "\n",
      "Numéro 1 : Bébé_tigre\n",
      "Pour plus de l'information, cliquez :  http://www.wikidata.org/entity/Q20724338\n",
      "\n",
      "\n",
      "Numéro 2 : Eau_argentée,_Syrie_autoportrait\n",
      "Pour plus de l'information, cliquez :  http://www.wikidata.org/entity/Q16910896\n",
      "\n",
      "\n",
      "Numéro 3 : Le_Procès_de_Viviane_Amsalem\n",
      "Pour plus de l'information, cliquez :  http://www.wikidata.org/entity/Q16639016\n",
      "\n",
      "\n",
      "Numéro 4 : Artémis,_cœur_d'artichaut\n",
      "Pour plus de l'information, cliquez :  http://www.wikidata.org/entity/Q16303878\n",
      "\n",
      "\n",
      "Numéro 5 : Aux_yeux_des_vivants\n",
      "Pour plus de l'information, cliquez :  http://www.wikidata.org/entity/Q16242863\n",
      "\n",
      "\n"
     ]
    }
   ],
   "source": [
    "recommander([\"Anna_Karénine\",\"Shadow_Dancer\"],[\"Twentynine_Palms\"])"
   ]
  },
  {
   "cell_type": "code",
   "execution_count": null,
   "id": "b599db5c",
   "metadata": {},
   "outputs": [],
   "source": []
  },
  {
   "cell_type": "code",
   "execution_count": null,
   "id": "7bd3d14d",
   "metadata": {},
   "outputs": [],
   "source": []
  },
  {
   "cell_type": "code",
   "execution_count": null,
   "id": "e712a230",
   "metadata": {},
   "outputs": [],
   "source": []
  },
  {
   "cell_type": "code",
   "execution_count": null,
   "id": "5aa5a240",
   "metadata": {},
   "outputs": [],
   "source": []
  },
  {
   "cell_type": "code",
   "execution_count": null,
   "id": "46314e5d",
   "metadata": {},
   "outputs": [],
   "source": []
  },
  {
   "cell_type": "code",
   "execution_count": null,
   "id": "f102b848",
   "metadata": {},
   "outputs": [],
   "source": []
  },
  {
   "cell_type": "code",
   "execution_count": null,
   "id": "03d3f5b0",
   "metadata": {},
   "outputs": [],
   "source": []
  }
 ],
 "metadata": {
  "kernelspec": {
   "display_name": "Python 3 (ipykernel)",
   "language": "python",
   "name": "python3"
  },
  "language_info": {
   "codemirror_mode": {
    "name": "ipython",
    "version": 3
   },
   "file_extension": ".py",
   "mimetype": "text/x-python",
   "name": "python",
   "nbconvert_exporter": "python",
   "pygments_lexer": "ipython3",
   "version": "3.9.7"
  }
 },
 "nbformat": 4,
 "nbformat_minor": 5
}
